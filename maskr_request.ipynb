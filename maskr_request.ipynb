{
 "metadata": {
  "name": ""
 },
 "nbformat": 3,
 "nbformat_minor": 0,
 "worksheets": [
  {
   "cells": [
    {
     "cell_type": "code",
     "collapsed": false,
     "input": [
      "import time\n",
      "import requests"
     ],
     "language": "python",
     "metadata": {},
     "outputs": [],
     "prompt_number": 2
    },
    {
     "cell_type": "code",
     "collapsed": false,
     "input": [
      "EMAIL = \"asgasg@dsga.com\""
     ],
     "language": "python",
     "metadata": {},
     "outputs": [],
     "prompt_number": 7
    },
    {
     "cell_type": "code",
     "collapsed": false,
     "input": [
      "while True:\n",
      "    r = requests.post('http://maskr.me/welcome/create', {\"email\":EMAIL})\n",
      "    if r.status_code == 200:\n",
      "        break\n",
      "    else:\n",
      "        print \"Request returned status code %i, retrying in 1s...\" % r.status_code\n",
      "        time.sleep(1)\n",
      "        \n",
      "print \"%s@maskr.me\" % r.json()['username']"
     ],
     "language": "python",
     "metadata": {},
     "outputs": [
      {
       "output_type": "stream",
       "stream": "stdout",
       "text": [
        "cnhpue@maskr.me\n"
       ]
      }
     ],
     "prompt_number": 19
    },
    {
     "cell_type": "code",
     "collapsed": false,
     "input": [
      "r.text"
     ],
     "language": "python",
     "metadata": {},
     "outputs": [
      {
       "metadata": {},
       "output_type": "pyout",
       "prompt_number": 20,
       "text": [
        "u'{\"username\":\"cnhpue\",\"email\":\"asgasg@dsga.com\",\"original\":\"asgasg@dsga.com\",\"encrypt\":\"09XJ6ejN\",\"response\":\"success\"}'"
       ]
      }
     ],
     "prompt_number": 20
    },
    {
     "cell_type": "code",
     "collapsed": false,
     "input": [
      "r.json()"
     ],
     "language": "python",
     "metadata": {},
     "outputs": [
      {
       "metadata": {},
       "output_type": "pyout",
       "prompt_number": 21,
       "text": [
        "{u'email': u'asgasg@dsga.com',\n",
        " u'encrypt': u'09XJ6ejN',\n",
        " u'original': u'asgasg@dsga.com',\n",
        " u'response': u'success',\n",
        " u'username': u'cnhpue'}"
       ]
      }
     ],
     "prompt_number": 21
    }
   ],
   "metadata": {}
  }
 ]
}